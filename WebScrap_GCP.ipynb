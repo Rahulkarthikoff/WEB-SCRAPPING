{
  "cells": [
    {
      "cell_type": "code",
      "execution_count": null,
      "metadata": {
        "colab": {
          "background_save": true
        },
        "id": "kIWgtLk7rhUV",
        "outputId": "c8564faa-20ba-4ea1-f62a-9ca42073d1de"
      },
      "outputs": [
        {
          "name": "stdout",
          "output_type": "stream",
          "text": [
            "         Company Name                                    Company Website\n",
            "0            17 Media                             https://about.17.live/\n",
            "1    20th Century Fox                https://www.20thcenturystudios.com/\n",
            "2             33Bondi                               https://33bondi.com/\n",
            "3       3PM Solutions                                    https://3pm.ai/\n",
            "4               4INFO                   http://www.4info-management.com/\n",
            "..                ...                                                ...\n",
            "245         Deskforce  https://www.crunchbase.com/organization/Deskforce\n",
            "246  Desktop Genetics  https://www.ncbi.nlm.nih.gov/pmc/articles/PMC5...\n",
            "247               DIA                               https://www.dia.mil/\n",
            "248           Dialpad                           https://www.dialpad.com/\n",
            "249          Digiexam                          https://www.digiexam.com/\n",
            "\n",
            "[250 rows x 2 columns]\n"
          ]
        }
      ],
      "source": [
        "#Scrapping 250 companies name that are using GOOGLE CLOUD PLATFORM with their company website link\n",
        "from googlesearch import search\n",
        "from bs4 import BeautifulSoup\n",
        "import pandas as pd\n",
        "import requests\n",
        "\n",
        "def get_company_names(url):\n",
        "    html=requests.get(url)\n",
        "    if(html.status_code==200):\n",
        "        soup=BeautifulSoup(html.text,'html')\n",
        "        company_names=soup.find_all('p')[30].text.split(', ')\n",
        "    else:\n",
        "        print(f\"Error\\nStatus Code : {html.status_code}\")\n",
        "    return company_names\n",
        "\n",
        "url='https://www.contino.io/insights/whos-using-google-cloud-platform'\n",
        "company_names=get_company_names(url)\n",
        "company_names=company_names[0:250]\n",
        "\n",
        "def get_company_websites(company_names):\n",
        "    company_websites=[]\n",
        "    for company_name in company_names:\n",
        "        search_query=f\"{company_name} official website\"\n",
        "        for i in search(search_query):\n",
        "            company_websites.append(i)\n",
        "            break\n",
        "    return company_websites\n",
        "\n",
        "company_websites=get_company_websites(company_names)\n",
        "\n",
        "Details={'Company Name':company_names,'Company Website':company_websites}\n",
        "df=pd.DataFrame(Details,columns=['Company Name','Company Website'])\n",
        "df.to_csv(\"Google Cloud Platform.csv\")\n",
        "print(df)"
      ]
    },
    {
      "cell_type": "code",
      "execution_count": 1,
      "metadata": {
        "colab": {
          "base_uri": "https://localhost:8080/"
        },
        "id": "ZyJfli1Asoff",
        "outputId": "6a381bdd-b253-4afa-ebc0-345deda60716"
      },
      "outputs": [
        {
          "output_type": "stream",
          "name": "stdout",
          "text": [
            "        Company Name                 Company Website\n",
            "0              Adobe          https://www.adobe.com/\n",
            "1             Airbnb         https://www.airbnb.com/\n",
            "2     Alcatel-Lucent  https://www.al-enterprise.com/\n",
            "3                AOL            https://www.aol.com/\n",
            "4             Acquia         https://www.acquia.com/\n",
            "..               ...                             ...\n",
            "92        WeTransfer         https://wetransfer.com/\n",
            "93               WIX            https://www.wix.com/\n",
            "94            Xiaomi      https://www.mi.com/global/\n",
            "95              Yelp           https://www.yelp.com/\n",
            "96  Zynga and Zillow         https://www.zillow.com/\n",
            "\n",
            "[97 rows x 2 columns]\n"
          ]
        }
      ],
      "source": [
        "#Scrapping 97 companies name that are using AWS with their company website link\n",
        "\n",
        "from googlesearch import search\n",
        "from bs4 import BeautifulSoup\n",
        "import pandas as pd\n",
        "import requests\n",
        "\n",
        "def get_company_names(url):\n",
        "    html=requests.get(url)\n",
        "    if(html.status_code==200):\n",
        "        soup=BeautifulSoup(html.text,'html')\n",
        "        company_names=soup.find('em').text.split(', ')\n",
        "    else:\n",
        "        print(f\"Error\\nStatus Code : {html.status_code}\")\n",
        "    return company_names\n",
        "\n",
        "url='https://www.linkedin.com/pulse/biggest-aws-users-nikhil-suryawanshi/'\n",
        "company_names=get_company_names(url)\n",
        "\n",
        "def get_company_websites(company_names):\n",
        "    company_websites=[]\n",
        "    for company_name in company_names:\n",
        "        search_query=f\"{company_name} official website\"\n",
        "        for i in search(search_query):\n",
        "            company_websites.append(i)\n",
        "            break\n",
        "    return company_websites\n",
        "\n",
        "company_websites=get_company_websites(company_names)\n",
        "\n",
        "Details={'Company Name':company_names,'Company Website':company_websites}\n",
        "df=pd.DataFrame(Details,columns=['Company Name','Company Website'])\n",
        "df.to_csv(\"Amazon Web Services.csv\")\n",
        "print(df)"
      ]
    }
  ],
  "metadata": {
    "colab": {
      "provenance": []
    },
    "kernelspec": {
      "display_name": "Python 3",
      "name": "python3"
    },
    "language_info": {
      "name": "python"
    }
  },
  "nbformat": 4,
  "nbformat_minor": 0
}